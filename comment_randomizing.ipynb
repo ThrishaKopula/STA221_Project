{
 "cells": [
  {
   "cell_type": "code",
   "execution_count": 1,
   "id": "fc5a938b-8c9a-44cb-9eed-710a541be605",
   "metadata": {},
   "outputs": [],
   "source": [
    "import pandas as pd\n"
   ]
  },
  {
   "cell_type": "code",
   "execution_count": 5,
   "id": "bab7d4b4-3cb3-47ea-a85f-96fc65651196",
   "metadata": {},
   "outputs": [
    {
     "data": {
      "text/html": [
       "<div>\n",
       "<style scoped>\n",
       "    .dataframe tbody tr th:only-of-type {\n",
       "        vertical-align: middle;\n",
       "    }\n",
       "\n",
       "    .dataframe tbody tr th {\n",
       "        vertical-align: top;\n",
       "    }\n",
       "\n",
       "    .dataframe thead th {\n",
       "        text-align: right;\n",
       "    }\n",
       "</style>\n",
       "<table border=\"1\" class=\"dataframe\">\n",
       "  <thead>\n",
       "    <tr style=\"text-align: right;\">\n",
       "      <th></th>\n",
       "      <th>post_id</th>\n",
       "      <th>comment_content</th>\n",
       "      <th>comment_score</th>\n",
       "      <th>comment_created_utc</th>\n",
       "    </tr>\n",
       "  </thead>\n",
       "  <tbody>\n",
       "    <tr>\n",
       "      <th>0</th>\n",
       "      <td>1501ibb</td>\n",
       "      <td>Did you get a second opinion?</td>\n",
       "      <td>6894</td>\n",
       "      <td>2023-07-15 04:18:00</td>\n",
       "    </tr>\n",
       "    <tr>\n",
       "      <th>1</th>\n",
       "      <td>1501ibb</td>\n",
       "      <td>On purpose?</td>\n",
       "      <td>15404</td>\n",
       "      <td>2023-07-15 04:21:36</td>\n",
       "    </tr>\n",
       "    <tr>\n",
       "      <th>2</th>\n",
       "      <td>1501ibb</td>\n",
       "      <td>\"Why does this keep happening to me?! Second t...</td>\n",
       "      <td>11788</td>\n",
       "      <td>2023-07-15 04:41:47</td>\n",
       "    </tr>\n",
       "    <tr>\n",
       "      <th>3</th>\n",
       "      <td>1501ibb</td>\n",
       "      <td>“Is it yours?”</td>\n",
       "      <td>24645</td>\n",
       "      <td>2023-07-15 04:35:52</td>\n",
       "    </tr>\n",
       "    <tr>\n",
       "      <th>4</th>\n",
       "      <td>1501ibb</td>\n",
       "      <td>Congrats! Whose is it?</td>\n",
       "      <td>8216</td>\n",
       "      <td>2023-07-15 04:07:51</td>\n",
       "    </tr>\n",
       "  </tbody>\n",
       "</table>\n",
       "</div>"
      ],
      "text/plain": [
       "   post_id                                    comment_content  comment_score  \\\n",
       "0  1501ibb                      Did you get a second opinion?           6894   \n",
       "1  1501ibb                                        On purpose?          15404   \n",
       "2  1501ibb  \"Why does this keep happening to me?! Second t...          11788   \n",
       "3  1501ibb                                     “Is it yours?”          24645   \n",
       "4  1501ibb                             Congrats! Whose is it?           8216   \n",
       "\n",
       "  comment_created_utc  \n",
       "0 2023-07-15 04:18:00  \n",
       "1 2023-07-15 04:21:36  \n",
       "2 2023-07-15 04:41:47  \n",
       "3 2023-07-15 04:35:52  \n",
       "4 2023-07-15 04:07:51  "
      ]
     },
     "execution_count": 5,
     "metadata": {},
     "output_type": "execute_result"
    }
   ],
   "source": [
    "# Load the 'comments' Parquet file\n",
    "df_comments = pd.read_parquet('data/comments.parquet.brotli', engine='pyarrow')\n",
    "df_comments.head()"
   ]
  },
  {
   "cell_type": "code",
   "execution_count": 7,
   "id": "1ad3b99e-651f-44db-bb44-ed0f2299a73c",
   "metadata": {},
   "outputs": [],
   "source": [
    "# Define functions to categorize comments by length\n",
    "def categorize_comment_length(comment):\n",
    "    length = len(comment)\n",
    "    if length <= 50:\n",
    "        return 'short'\n",
    "    elif 51 <= length <= 150:\n",
    "        return 'medium'\n",
    "    else:\n",
    "        return 'long'\n",
    "\n",
    "# Add a new column for comment length category\n",
    "df_comments['length_category'] = df_comments['comment_content'].apply(categorize_comment_length)\n",
    "\n",
    "# Sample 100 comments from each category\n",
    "short_comments = df_comments[df_comments['length_category'] == 'short'].sample(n=100, random_state=42)\n",
    "medium_comments = df_comments[df_comments['length_category'] == 'medium'].sample(n=100, random_state=42)\n",
    "long_comments = df_comments[df_comments['length_category'] == 'long'].sample(n=100, random_state=42)\n",
    "\n",
    "# Combine the samples\n",
    "combined_comments = pd.concat([short_comments, medium_comments, long_comments])"
   ]
  },
  {
   "cell_type": "code",
   "execution_count": 11,
   "id": "78aee8cb-c3a9-44c2-8214-85f7509f44e4",
   "metadata": {},
   "outputs": [
    {
     "name": "stdout",
     "output_type": "stream",
     "text": [
      "Comments saved to 'selected_comments.csv' successfully!\n"
     ]
    }
   ],
   "source": [
    "# Save the combined DataFrame to a CSV file\n",
    "combined_comments['sentiment'] = ''\n",
    "combined_comments.to_csv('selected_comments.csv', index=False)\n",
    "\n",
    "print(\"Comments saved to 'selected_comments.csv' successfully!\")"
   ]
  },
  {
   "cell_type": "code",
   "execution_count": null,
   "id": "a8e8aed8-1c70-4eaa-a126-5168917c71db",
   "metadata": {},
   "outputs": [],
   "source": []
  }
 ],
 "metadata": {
  "kernelspec": {
   "display_name": "Python 3 (ipykernel)",
   "language": "python",
   "name": "python3"
  },
  "language_info": {
   "codemirror_mode": {
    "name": "ipython",
    "version": 3
   },
   "file_extension": ".py",
   "mimetype": "text/x-python",
   "name": "python",
   "nbconvert_exporter": "python",
   "pygments_lexer": "ipython3",
   "version": "3.12.7"
  }
 },
 "nbformat": 4,
 "nbformat_minor": 5
}

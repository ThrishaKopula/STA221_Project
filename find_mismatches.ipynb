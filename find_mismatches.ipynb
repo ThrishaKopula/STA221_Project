{
 "cells": [
  {
   "cell_type": "code",
   "execution_count": 22,
   "id": "840cde10-ae6b-4549-a109-8999a02000de",
   "metadata": {},
   "outputs": [
    {
     "name": "stdout",
     "output_type": "stream",
     "text": [
      "Matching: 221\n",
      "Not Matching: 94\n"
     ]
    }
   ],
   "source": [
    "import pandas as pd\n",
    "\n",
    "# Load your CSV file into a DataFrame\n",
    "df = pd.read_csv('data/selected_comments_with_RoBERTa.csv')\n",
    "\n",
    "# Compare the 'sentiment' and 'roberta_sentiment' columns\n",
    "matches = df['sentiment'] == df['RoBERTa_sentiment']\n",
    "\n",
    "# Count how many are True (matching) and how many are False (not matching)\n",
    "matching_count = matches.sum()  # True counts as 1\n",
    "non_matching_count = (~matches).sum()  # False counts as 1\n",
    "\n",
    "print(f\"Matching: {matching_count}\")\n",
    "print(f\"Not Matching: {non_matching_count}\")"
   ]
  },
  {
   "cell_type": "code",
   "execution_count": 24,
   "id": "29c9298a-cc9c-4037-9c27-a6862f9a3719",
   "metadata": {},
   "outputs": [],
   "source": [
    "mismatched_rows = df[df['sentiment'] != df['RoBERTa_sentiment']]\n",
    "mismatched_rows.to_csv('mismatched_rows.csv', index=False)"
   ]
  }
 ],
 "metadata": {
  "kernelspec": {
   "display_name": "Python 3 (ipykernel)",
   "language": "python",
   "name": "python3"
  },
  "language_info": {
   "codemirror_mode": {
    "name": "ipython",
    "version": 3
   },
   "file_extension": ".py",
   "mimetype": "text/x-python",
   "name": "python",
   "nbconvert_exporter": "python",
   "pygments_lexer": "ipython3",
   "version": "3.12.7"
  }
 },
 "nbformat": 4,
 "nbformat_minor": 5
}

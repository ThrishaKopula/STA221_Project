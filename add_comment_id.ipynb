{
 "cells": [
  {
   "cell_type": "code",
   "execution_count": 19,
   "id": "007efd29-11d5-4ff7-afe9-9226a2cbfb1f",
   "metadata": {},
   "outputs": [
    {
     "name": "stdout",
     "output_type": "stream",
     "text": [
      "Updated CSV file with comment_id added saved to output_file.csv\n"
     ]
    }
   ],
   "source": [
    "import csv\n",
    "import ast\n",
    "import sys\n",
    "import pandas as pd\n",
    "\n",
    "csv.field_size_limit(sys.maxsize)\n",
    "\n",
    "# File paths\n",
    "first_csv = 'data/final_comments.csv'\n",
    "second_csv = 'data/top_reddit_posts.csv'\n",
    "output_csv = 'output_file.csv'\n",
    "\n",
    "# Function to remove whitespace from a string\n",
    "def normalize_text(text):\n",
    "    return ''.join(text.split())  # Remove all whitespace\n",
    "\n",
    "# Load the first CSV into a pandas DataFrame\n",
    "df_first = pd.read_csv(first_csv)\n",
    "\n",
    "# Prepare a dictionary to map normalized comment content to comment ID\n",
    "comment_content_to_id = {}\n",
    "\n",
    "# Process the second CSV to extract Comment Content and Comment ID\n",
    "with open(second_csv, 'r') as f:\n",
    "    reader = csv.DictReader(f)\n",
    "    for row in reader:\n",
    "        comments = ast.literal_eval(row['Comments'])  # Convert string to list of dictionaries\n",
    "        for comment in comments:\n",
    "            comment_content = comment.get('Comment Content', '')\n",
    "            comment_id = comment.get('Comment ID', '').strip()\n",
    "            if comment_content:\n",
    "                # Normalize the comment content for comparison\n",
    "                normalized_content = normalize_text(comment_content)\n",
    "                comment_content_to_id[normalized_content] = comment_id\n",
    "\n",
    "# Map comment_content from the first CSV to the Comment ID\n",
    "df_first['comment_id'] = df_first['comment_content'].map(\n",
    "    lambda content: comment_content_to_id.get(normalize_text(content), None)\n",
    ")\n",
    "\n",
    "# Save the updated DataFrame to a new CSV file\n",
    "df_first.to_csv(output_csv, index=False)\n",
    "\n",
    "print(f\"Updated CSV file with comment_id added saved to {output_csv}\")\n",
    "\n"
   ]
  },
  {
   "cell_type": "code",
   "execution_count": 31,
   "id": "033294ca-decb-4413-8df5-adcc0ff8c956",
   "metadata": {},
   "outputs": [
    {
     "name": "stdout",
     "output_type": "stream",
     "text": [
      "Merged file saved as 'merged_output.csv'\n"
     ]
    }
   ],
   "source": [
    "\n",
    "# Load the CSV files into dataframes\n",
    "csv1 = pd.read_csv(\"data/id_added.csv\")\n",
    "csv2 = pd.read_csv(\"data/comment_sentiment.csv\")\n",
    "\n",
    "# Merge the dataframes using a left join to keep all rows from csv1 and add matches from csv2\n",
    "merged_df = pd.merge(csv1, csv2[['comment_id', 'RoBERTa_sentiment']], on='comment_id', how='left')\n",
    "\n",
    "# Reorder columns as desired\n",
    "final_columns = ['post_id', 'comment_id', 'comment_content', 'comment_score', \n",
    "                 'comment_created_utc', 'length_category', 'sentiment', 'RoBERTa_sentiment']\n",
    "final_df = merged_df[final_columns]\n",
    "\n",
    "# Save the new dataframe to a CSV file\n",
    "final_df.to_csv(\"selected_comments_with_RoBERTa.csv\", index=False)\n",
    "\n",
    "print(\"Merged file saved as 'merged_output.csv'\")\n"
   ]
  },
  {
   "cell_type": "code",
   "execution_count": null,
   "id": "0d825221-688d-4cc8-b721-ab0d2d8d9fda",
   "metadata": {},
   "outputs": [],
   "source": []
  }
 ],
 "metadata": {
  "kernelspec": {
   "display_name": "Python 3 (ipykernel)",
   "language": "python",
   "name": "python3"
  },
  "language_info": {
   "codemirror_mode": {
    "name": "ipython",
    "version": 3
   },
   "file_extension": ".py",
   "mimetype": "text/x-python",
   "name": "python",
   "nbconvert_exporter": "python",
   "pygments_lexer": "ipython3",
   "version": "3.12.7"
  }
 },
 "nbformat": 4,
 "nbformat_minor": 5
}
